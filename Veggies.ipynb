{
 "nbformat": 4,
 "nbformat_minor": 0,
 "metadata": {
  "colab": {
   "provenance": [],
   "authorship_tag": "ABX9TyPTyHINreD8ResMKX+uII4R",
   "include_colab_link": true
  },
  "kernelspec": {
   "name": "python3",
   "language": "python",
   "display_name": "Python 3 (ipykernel)"
  },
  "language_info": {
   "name": "python"
  }
 },
 "cells": [
  {
   "cell_type": "markdown",
   "metadata": {
    "id": "view-in-github",
    "colab_type": "text"
   },
   "source": []
  },
  {
   "cell_type": "code",
   "source": [
    "from tensorflow.keras.layers import Input, Lambda, Dense, Flatten, Dropout\n",
    "from tensorflow.keras.models import Model\n",
    "from tensorflow.keras.applications.resnet50 import ResNet50, preprocess_input\n",
    "from tensorflow.keras.preprocessing import image\n",
    "from tensorflow.keras.preprocessing.image import ImageDataGenerator\n",
    "from sklearn.metrics import confusion_matrix\n",
    "import numpy as np\n",
    "import matplotlib.pyplot as plt\n",
    "from glob import glob\n",
    "import itertools\n",
    "import random\n",
    "import os"
   ],
   "metadata": {
    "id": "Zy7MaZwtEpQa",
    "ExecuteTime": {
     "end_time": "2024-03-20T15:17:38.634107Z",
     "start_time": "2024-03-20T15:17:21.212341Z"
    }
   },
   "execution_count": 1,
   "outputs": []
  },
  {
   "cell_type": "code",
   "execution_count": 2,
   "metadata": {
    "colab": {
     "base_uri": "https://localhost:8080/"
    },
    "id": "-x5K-ivxEd29",
    "outputId": "246a4ad2-f416-45ed-ecef-e1c4c718e678",
    "ExecuteTime": {
     "end_time": "2024-03-18T22:43:33.859041Z",
     "start_time": "2024-03-18T22:43:33.730205Z"
    }
   },
   "outputs": [
    {
     "name": "stdout",
     "output_type": "stream",
     "text": [
      "fatal: destination path 'veggies' already exists and is not an empty directory.\r\n"
     ]
    }
   ],
   "source": [
    "!git clone https://github.com/joneikholmkea/veggies.git"
   ]
  },
  {
   "cell_type": "code",
   "source": [
    "trainingFiles = \"veggies/trainRed\"\n",
    "testFiles = \"veggies/testRed\"\n",
    "validationFiles = 'veggies/validation'\n",
    "targetSize=[100,100]"
   ],
   "metadata": {
    "id": "-ozk3ffYErjp",
    "ExecuteTime": {
     "end_time": "2024-03-20T15:18:33.801038Z",
     "start_time": "2024-03-20T15:18:33.789614Z"
    }
   },
   "execution_count": 2,
   "outputs": []
  },
  {
   "cell_type": "code",
   "source": [
    "image_files = glob(trainingFiles + '/*/*.jp*g') # load alle billeder som slutter med jpg eller jpeg\n",
    "folders = glob(trainingFiles + '/*') # giver alle undermapper"
   ],
   "metadata": {
    "id": "4mvIwblaEr4z",
    "ExecuteTime": {
     "end_time": "2024-03-20T15:19:36.339007Z",
     "start_time": "2024-03-20T15:19:36.320854Z"
    }
   },
   "execution_count": 6,
   "outputs": []
  },
  {
   "cell_type": "code",
   "source": [
    "resNet= ResNet50(input_shape=targetSize + [3], weights='imagenet', include_top=False)"
   ],
   "metadata": {
    "colab": {
     "base_uri": "https://localhost:8080/"
    },
    "id": "iDEGToq_EzUO",
    "outputId": "ec503482-e39d-40d3-937e-3f6bd298c5f1",
    "ExecuteTime": {
     "end_time": "2024-03-20T15:19:37.373212Z",
     "start_time": "2024-03-20T15:19:36.796355Z"
    }
   },
   "execution_count": 7,
   "outputs": []
  },
  {
   "cell_type": "code",
   "source": [
    "for layer in resNet.layers: #kun vores del af modellen skal trænes\n",
    "  layer.trainable = False"
   ],
   "metadata": {
    "id": "Cf-f3s3nE1N6",
    "ExecuteTime": {
     "end_time": "2024-03-20T15:19:37.436548Z",
     "start_time": "2024-03-20T15:19:37.431251Z"
    }
   },
   "execution_count": 8,
   "outputs": []
  },
  {
   "cell_type": "code",
   "source": [
    "# Add dropout to the model\n",
    "layers = Flatten()(resNet.output)\n",
    "layers = Dense(30, activation='relu')(layers)\n",
    "layers = Dropout(0.2)(layers) # with 20% probability drop a neuron\n",
    "layers = Dense(len(folders), activation='softmax')(layers)"
   ],
   "metadata": {
    "id": "-AwTleMEE3NR",
    "ExecuteTime": {
     "end_time": "2024-03-20T15:19:38.200650Z",
     "start_time": "2024-03-20T15:19:38.183716Z"
    }
   },
   "execution_count": 9,
   "outputs": []
  },
  {
   "cell_type": "code",
   "source": [
    "model = Model(inputs=resNet.input, outputs=layers)\n",
    "model.compile(\n",
    "    optimizer = 'adam',\n",
    "    metrics=['accuracy'],\n",
    "    loss='sparse_categorical_crossentropy'\n",
    ")"
   ],
   "metadata": {
    "id": "DWE0YwTnE476",
    "ExecuteTime": {
     "end_time": "2024-03-20T15:19:39.166Z",
     "start_time": "2024-03-20T15:19:39.147633Z"
    }
   },
   "execution_count": 10,
   "outputs": []
  },
  {
   "cell_type": "code",
   "source": [
    "# Create an instance of the ImageDataGenerator class\n",
    "dataGen = ImageDataGenerator(\n",
    "    rotation_range = 20,  # Randomly rotate images in the range (degrees, 0 to 180)\n",
    "    width_shift_range=0.1,  # Randomly shift images horizontally (fraction of total width)\n",
    "    height_shift_range=0.1,  # Randomly shift images vertically (fraction of total height)\n",
    "    shear_range=0.1,  # Set range for random shear\n",
    "    horizontal_flip=True,  # Randomly flip inputs horizontally\n",
    "    vertical_flip=True,  # Randomly flip inputs vertically\n",
    "    preprocessing_function = preprocess_input  # Function applied to each input image\n",
    ")"
   ],
   "metadata": {
    "id": "SE2-r1wiE6Lj",
    "ExecuteTime": {
     "end_time": "2024-03-20T15:19:40.733072Z",
     "start_time": "2024-03-20T15:19:40.730171Z"
    }
   },
   "execution_count": 11,
   "outputs": []
  },
  {
   "cell_type": "code",
   "source": [
    "# Use the ImageDataGenerator instance to read images from the directory and preprocess them\n",
    "training_set = dataGen.flow_from_directory(\n",
    "    trainingFiles,  # Path to the directory\n",
    "    target_size = targetSize,  # The dimensions to which all images found will be resized\n",
    "    shuffle=True,  # Whether to shuffle the data\n",
    "    batch_size=50,  # Number of images to process at a time\n",
    "    class_mode='sparse'  # Mode for yielding the targets: 'sparse' means that the categorical labels will be returned as 1D integer labels\n",
    ")"
   ],
   "metadata": {
    "colab": {
     "base_uri": "https://localhost:8080/"
    },
    "id": "KLWBkL_pE7u1",
    "outputId": "7ed65304-b2f6-485e-9416-1e2f2514cacb",
    "ExecuteTime": {
     "end_time": "2024-03-20T15:19:42.385865Z",
     "start_time": "2024-03-20T15:19:41.731854Z"
    }
   },
   "execution_count": 12,
   "outputs": [
    {
     "name": "stdout",
     "output_type": "stream",
     "text": [
      "Found 3000 images belonging to 15 classes.\n"
     ]
    }
   ]
  },
  {
   "cell_type": "code",
   "source": [
    "test_set = dataGen.flow_from_directory(\n",
    "    testFiles,\n",
    "    target_size = targetSize,\n",
    "    shuffle=False,\n",
    "    batch_size=50,\n",
    "    class_mode='sparse' # Laver One-hot om til tal\n",
    ")"
   ],
   "metadata": {
    "colab": {
     "base_uri": "https://localhost:8080/"
    },
    "id": "x4kddrJbE9Wf",
    "outputId": "dcf38f01-3e0f-4757-b15e-d2621234091c",
    "ExecuteTime": {
     "end_time": "2024-03-20T15:19:43.620093Z",
     "start_time": "2024-03-20T15:19:43.547685Z"
    }
   },
   "execution_count": 13,
   "outputs": [
    {
     "name": "stdout",
     "output_type": "stream",
     "text": [
      "Found 3000 images belonging to 15 classes.\n"
     ]
    }
   ]
  },
  {
   "cell_type": "code",
   "source": [
    "validation_Set = dataGen.flow_from_directory(\n",
    "    validationFiles,\n",
    "    target_size = targetSize,\n",
    "    shuffle=False,\n",
    "    batch_size=50,\n",
    "    class_mode='sparse' # Laver One-hot om til tal\n",
    ")"
   ],
   "metadata": {
    "colab": {
     "base_uri": "https://localhost:8080/"
    },
    "id": "Z0TEdViuIXxW",
    "outputId": "339c6e3c-77e1-4fae-eb5d-2cb72aad3be3",
    "ExecuteTime": {
     "end_time": "2024-03-20T15:19:44.767648Z",
     "start_time": "2024-03-20T15:19:44.694283Z"
    }
   },
   "execution_count": 14,
   "outputs": [
    {
     "name": "stdout",
     "output_type": "stream",
     "text": [
      "Found 3000 images belonging to 15 classes.\n"
     ]
    }
   ]
  },
  {
   "cell_type": "code",
   "source": [
    "model.fit(\n",
    "    training_set,\n",
    "    validation_data=test_set, #bruger test_set som guide til at burdere om vægte justeres optimalt\n",
    "    epochs=10\n",
    ")\n",
    "model.save('my_model.keras')"
   ],
   "metadata": {
    "colab": {
     "base_uri": "https://localhost:8080/"
    },
    "id": "jBnTmMivE_nu",
    "outputId": "cc3ea5cf-66e9-408a-e87c-d859c291304f",
    "ExecuteTime": {
     "end_time": "2024-03-20T15:28:55.043952Z",
     "start_time": "2024-03-20T15:22:00.198514Z"
    }
   },
   "execution_count": 22,
   "outputs": [
    {
     "name": "stdout",
     "output_type": "stream",
     "text": [
      "Epoch 1/10\n",
      "\u001B[1m60/60\u001B[0m \u001B[32m━━━━━━━━━━━━━━━━━━━━\u001B[0m\u001B[37m\u001B[0m \u001B[1m41s\u001B[0m 669ms/step - accuracy: 0.7236 - loss: 0.8419 - val_accuracy: 0.8780 - val_loss: 0.4435\n",
      "Epoch 2/10\n",
      "\u001B[1m60/60\u001B[0m \u001B[32m━━━━━━━━━━━━━━━━━━━━\u001B[0m\u001B[37m\u001B[0m \u001B[1m44s\u001B[0m 724ms/step - accuracy: 0.7694 - loss: 0.7478 - val_accuracy: 0.9033 - val_loss: 0.3675\n",
      "Epoch 3/10\n",
      "\u001B[1m60/60\u001B[0m \u001B[32m━━━━━━━━━━━━━━━━━━━━\u001B[0m\u001B[37m\u001B[0m \u001B[1m42s\u001B[0m 702ms/step - accuracy: 0.8112 - loss: 0.5780 - val_accuracy: 0.9143 - val_loss: 0.3047\n",
      "Epoch 4/10\n",
      "\u001B[1m60/60\u001B[0m \u001B[32m━━━━━━━━━━━━━━━━━━━━\u001B[0m\u001B[37m\u001B[0m \u001B[1m41s\u001B[0m 681ms/step - accuracy: 0.8207 - loss: 0.5722 - val_accuracy: 0.9260 - val_loss: 0.2725\n",
      "Epoch 5/10\n",
      "\u001B[1m60/60\u001B[0m \u001B[32m━━━━━━━━━━━━━━━━━━━━\u001B[0m\u001B[37m\u001B[0m \u001B[1m43s\u001B[0m 715ms/step - accuracy: 0.8174 - loss: 0.5577 - val_accuracy: 0.9173 - val_loss: 0.3212\n",
      "Epoch 6/10\n",
      "\u001B[1m60/60\u001B[0m \u001B[32m━━━━━━━━━━━━━━━━━━━━\u001B[0m\u001B[37m\u001B[0m \u001B[1m41s\u001B[0m 689ms/step - accuracy: 0.8410 - loss: 0.5234 - val_accuracy: 0.9267 - val_loss: 0.2595\n",
      "Epoch 7/10\n",
      "\u001B[1m60/60\u001B[0m \u001B[32m━━━━━━━━━━━━━━━━━━━━\u001B[0m\u001B[37m\u001B[0m \u001B[1m41s\u001B[0m 682ms/step - accuracy: 0.8490 - loss: 0.4747 - val_accuracy: 0.9353 - val_loss: 0.2689\n",
      "Epoch 8/10\n",
      "\u001B[1m60/60\u001B[0m \u001B[32m━━━━━━━━━━━━━━━━━━━━\u001B[0m\u001B[37m\u001B[0m \u001B[1m41s\u001B[0m 672ms/step - accuracy: 0.8584 - loss: 0.4252 - val_accuracy: 0.9167 - val_loss: 0.2881\n",
      "Epoch 9/10\n",
      "\u001B[1m60/60\u001B[0m \u001B[32m━━━━━━━━━━━━━━━━━━━━\u001B[0m\u001B[37m\u001B[0m \u001B[1m40s\u001B[0m 671ms/step - accuracy: 0.8570 - loss: 0.4854 - val_accuracy: 0.9380 - val_loss: 0.2781\n",
      "Epoch 10/10\n",
      "\u001B[1m60/60\u001B[0m \u001B[32m━━━━━━━━━━━━━━━━━━━━\u001B[0m\u001B[37m\u001B[0m \u001B[1m41s\u001B[0m 674ms/step - accuracy: 0.8643 - loss: 0.4121 - val_accuracy: 0.9260 - val_loss: 0.2907\n"
     ]
    }
   ]
  },
  {
   "cell_type": "markdown",
   "source": [],
   "metadata": {
    "id": "-BPLgSNhEuWD"
   }
  },
  {
   "cell_type": "code",
   "outputs": [
    {
     "name": "stdout",
     "output_type": "stream",
     "text": [
      "Chosen image path: veggies/trainRed/Potato/0376.jpg\n",
      "\u001B[1m1/1\u001B[0m \u001B[32m━━━━━━━━━━━━━━━━━━━━\u001B[0m\u001B[37m\u001B[0m \u001B[1m0s\u001B[0m 27ms/step\n",
      "Predicted Class Name: Potato With probability: 0.99197257\n"
     ]
    }
   ],
   "source": [
    "subfolders = [f.path for f in os.scandir(trainingFiles) if f.is_dir()]\n",
    "\n",
    "# Choose a random subfolder\n",
    "random_subfolder = random.choice(subfolders)\n",
    "\n",
    "# Get a list of all images in the chosen subfolder\n",
    "images = [f for f in os.listdir(random_subfolder) if os.path.isfile(os.path.join(random_subfolder, f))]\n",
    "\n",
    "# Choose a random image\n",
    "random_image = random.choice(images)\n",
    "# Construct the full path to the random image\n",
    "image_path = os.path.join(random_subfolder, random_image)\n",
    "\n",
    "print(\"Chosen image path:\", image_path)\n",
    "\n",
    "# Load the image\n",
    "img = image.load_img(image_path, target_size=(100, 100))\n",
    "\n",
    "# Convert the image to a numpy array\n",
    "img_array = image.img_to_array(img)\n",
    "\n",
    "# Expand dimensions to fit the model's expected input shape\n",
    "img_array = np.expand_dims(img_array, axis=0)\n",
    "\n",
    "# Make a prediction\n",
    "result = model.predict(img_array)\n",
    "\n",
    "# Get the index of the highest probability\n",
    "predicted_class_index = np.argmax(result)\n",
    "\n",
    "class_names = list(training_set.class_indices.keys())\n",
    "predicted_class_name = class_names[predicted_class_index]\n",
    "# Print the predicted class name\n",
    "print(\"Predicted Class Name:\", predicted_class_name, \"With probability:\", result[0][predicted_class_index])"
   ],
   "metadata": {
    "collapsed": false,
    "ExecuteTime": {
     "end_time": "2024-03-20T19:26:59.652817Z",
     "start_time": "2024-03-20T19:26:59.593280Z"
    }
   },
   "execution_count": 37
  }
 ]
}
